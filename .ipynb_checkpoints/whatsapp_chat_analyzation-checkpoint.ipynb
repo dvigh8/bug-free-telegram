{
 "cells": [
  {
   "cell_type": "code",
   "execution_count": null,
   "metadata": {},
   "outputs": [],
   "source": [
    "# julia 1.2.0\n",
    "using Pkg\n",
    "Pkg.installed()"
   ]
  },
  {
   "cell_type": "code",
   "execution_count": null,
   "metadata": {},
   "outputs": [],
   "source": [
    "message_regex = r\"(^[\\[]?[\\d]+\\/[\\d]{1,2}\\/[\\d]{1,2}[,]\\s[\\d]{1,2}[:][\\d]{1,2}([:][\\d]{1,2}[\\]]|[\\s]\\-[\\s])).*[\\:].*\""
   ]
  },
  {
   "cell_type": "code",
   "execution_count": null,
   "metadata": {},
   "outputs": [],
   "source": [
    "fname = joinpath(homedir(),\"Documents\",\"whatsapp_chat.txt\")\n",
    "f = open(fname,\"r\")\n",
    "l = readlines(f)\n",
    "l[1]\n",
    "# ismatch(message_regex,l[1])"
   ]
  },
  {
   "cell_type": "code",
   "execution_count": null,
   "metadata": {},
   "outputs": [],
   "source": [
    "is_message = occursin(message_regex,l[2])"
   ]
  },
  {
   "cell_type": "code",
   "execution_count": null,
   "metadata": {},
   "outputs": [],
   "source": [
    "print(is_message)"
   ]
  },
  {
   "cell_type": "code",
   "execution_count": null,
   "metadata": {},
   "outputs": [],
   "source": [
    "messages = []\n",
    "count = 1\n",
    "message_count = 0\n",
    "err_count = 0\n",
    "err_dict = Dict()\n",
    "chat_admin_opperations = Dict()\n",
    "for x in l\n",
    "    if occursin(message_regex,x)\n",
    "        push!(messages,x)\n",
    "        message_count += 1\n",
    "    else \n",
    "        if occursin(r\"(^[\\[]?[\\d]+\\/[\\d]{1,2}\\/[\\d]{1,2}[,]\\s[\\d]{1,2}[:][\\d]{1,2}[:]?[\\d]?[\\d]?).*\",x)\n",
    "            chat_admin_opperations[err_count] = x\n",
    "        elseif haskey(err_dict, count)\n",
    "            err_dict[message_count] += x\n",
    "        else\n",
    "            err_dict[message_count] = x\n",
    "        end\n",
    "        err_count +=1\n",
    "    end\n",
    "    count += 1\n",
    "end\n",
    "println()\n",
    "count2 = 0\n",
    "for (k,v) in dict\n",
    "    if v > 100\n",
    "#         println(k,\" \",v)\n",
    "        count2 += v\n",
    "    end\n",
    "end\n",
    "println(count, \" Raw count\")\n",
    "println(ecount, \" Error count\")\n",
    "println(count - ecount - count2, \" new lined messages\")\n",
    "println(count2, \" Message count2\")\n",
    "println(message_count, \" message_count\")\n",
    "println(message_count + err_count)\n",
    "println(err_count, \" Err count\")\n",
    "# for (k,v) in err_dict\n",
    "#     println(k,\" \", v)\n",
    "# end\n",
    "# println(size(messages), \" Message count\")"
   ]
  },
  {
   "cell_type": "code",
   "execution_count": null,
   "metadata": {},
   "outputs": [],
   "source": [
    "println(err_dict[0])"
   ]
  },
  {
   "cell_type": "code",
   "execution_count": null,
   "metadata": {},
   "outputs": [],
   "source": []
  },
  {
   "cell_type": "code",
   "execution_count": null,
   "metadata": {},
   "outputs": [],
   "source": [
    "for (k,v) in chat_admin_opperations\n",
    "    println(k,\" \", v)\n",
    "end\n"
   ]
  }
 ],
 "metadata": {
  "kernelspec": {
   "display_name": "Julia 1.2.0",
   "language": "julia",
   "name": "julia-1.2"
  },
  "language_info": {
   "file_extension": ".jl",
   "mimetype": "application/julia",
   "name": "julia",
   "version": "1.2.0"
  }
 },
 "nbformat": 4,
 "nbformat_minor": 4
}
