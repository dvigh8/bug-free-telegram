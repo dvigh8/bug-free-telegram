{
 "cells": [
  {
   "cell_type": "code",
   "execution_count": 1,
   "metadata": {},
   "outputs": [],
   "source": [
    "import os\n",
    "from pathlib import Path\n",
    "import phonenumbers"
   ]
  },
  {
   "cell_type": "code",
   "execution_count": 33,
   "metadata": {},
   "outputs": [],
   "source": [
    "file_path = os.path.join(Path.home(),\"Documents\")\n",
    "with open(file_path + \"/whatsapp_chat.txt\",'r') as f_in, open(file_path + \"/cleaned_chat.txt\",'w') as f_out:\n",
    "    for l in f_in:\n",
    "        line = l\n",
    "        matcher = phonenumbers.PhoneNumberMatcher(line, \"US\")\n",
    "        match = matcher.next() if matcher.has_next() else None\n",
    "        if match is not None:\n",
    "            line = line[:match.start] + phonenumbers.format_number(match.number, phonenumbers.PhoneNumberFormat.E164) + line[match.end:]\n",
    "        f_out.write(line)"
   ]
  },
  {
   "cell_type": "code",
   "execution_count": null,
   "metadata": {},
   "outputs": [],
   "source": []
  }
 ],
 "metadata": {
  "kernelspec": {
   "display_name": "whatsapp",
   "language": "python",
   "name": "whatsapp"
  },
  "language_info": {
   "codemirror_mode": {
    "name": "ipython",
    "version": 3
   },
   "file_extension": ".py",
   "mimetype": "text/x-python",
   "name": "python",
   "nbconvert_exporter": "python",
   "pygments_lexer": "ipython3",
   "version": "3.7.4"
  }
 },
 "nbformat": 4,
 "nbformat_minor": 4
}
