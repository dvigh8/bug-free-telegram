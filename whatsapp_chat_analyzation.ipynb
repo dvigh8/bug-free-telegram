{
 "cells": [
  {
   "cell_type": "code",
   "execution_count": null,
   "metadata": {},
   "outputs": [],
   "source": [
    "# julia 1.2.0\n",
    "using Pkg\n",
    "Pkg.installed()"
   ]
  },
  {
   "cell_type": "code",
   "execution_count": null,
   "metadata": {},
   "outputs": [],
   "source": [
    "message_regex = r\"(^[\\[]?[\\d]+\\/[\\d]{1,2}\\/[\\d]{1,2}[,]\\s[\\d]{1,2}[:][\\d]{1,2}([:][\\d]{1,2}[\\]]|[\\s]\\-[\\s])).*[\\:].*\"\n",
    "admin_opperation_regex = r\"(^[\\[]?[\\d]+\\/[\\d]{1,2}\\/[\\d]{1,2}[,]\\s[\\d]{1,2}[:][\\d]{1,2}[:]?[\\d]?[\\d]?).*\""
   ]
  },
  {
   "cell_type": "markdown",
   "metadata": {},
   "source": [
    "### loads file prints first line "
   ]
  },
  {
   "cell_type": "code",
   "execution_count": null,
   "metadata": {},
   "outputs": [],
   "source": [
    "fname = joinpath(homedir(),\"Documents\",\"whatsapp_chat.txt\")\n",
    "f = open(fname,\"r\")\n",
    "l = readlines(f)\n",
    "l[1]\n",
    "# ismatch(message_regex,l[1])"
   ]
  },
  {
   "cell_type": "markdown",
   "metadata": {},
   "source": [
    "### sepperates all messages from admin opperations finds multi line messages"
   ]
  },
  {
   "cell_type": "code",
   "execution_count": null,
   "metadata": {},
   "outputs": [],
   "source": [
    "messages = []\n",
    "count = 1\n",
    "message_count = 1\n",
    "err_count = 0\n",
    "err_dict = Dict()\n",
    "chat_admin_opperations = Dict()\n",
    "for x in l\n",
    "    if occursin(message_regex,x)\n",
    "        push!(messages,x)\n",
    "        message_count += 1\n",
    "    else \n",
    "        if occursin(admin_opperation_regex,x)\n",
    "            chat_admin_opperations[err_count] = x\n",
    "        elseif haskey(err_dict, message_count - 1)\n",
    "#             println(\"FROMDICT \", get(err_dict, message_count))\n",
    "            err_dict[message_count - 1] *= \" \" * x\n",
    "        else\n",
    "            err_dict[message_count - 1] = x\n",
    "        end\n",
    "        err_count +=1\n",
    "    end\n",
    "    count += 1\n",
    "end\n",
    "for (k,v) in err_dict\n",
    "    messages[k] *= \" \" * v\n",
    "end\n",
    "\n",
    "println(count, \" Raw count\")\n",
    "println(message_count, \" message_count\")\n",
    "println(message_count + err_count)\n",
    "println(err_count, \" Err count\")\n"
   ]
  },
  {
   "cell_type": "code",
   "execution_count": null,
   "metadata": {},
   "outputs": [],
   "source": [
    "# for (k,v) in chat_admin_opperations\n",
    "#     println(k,\" \", v)\n",
    "# end\n",
    "println(\"number of admin opperations => \", length(chat_admin_opperations))"
   ]
  },
  {
   "cell_type": "markdown",
   "metadata": {},
   "source": [
    "### add on rest of multi line messages"
   ]
  },
  {
   "cell_type": "code",
   "execution_count": null,
   "metadata": {},
   "outputs": [],
   "source": [
    "decomposed_messages = []\n",
    "for s in messages\n",
    "    date = \"datehelo\"\n",
    "    time = \"time\"\n",
    "    sender = \"sender\"\n",
    "    message = s\n",
    "    push!(decomposed_messages,[date, time, sender, message])\n",
    "end\n",
    "    "
   ]
  },
  {
   "cell_type": "code",
   "execution_count": null,
   "metadata": {},
   "outputs": [],
   "source": [
    "for (k,v) in messages\n",
    "    print(k, \" \")\n",
    "end\n",
    "messages[17794]"
   ]
  },
  {
   "cell_type": "code",
   "execution_count": null,
   "metadata": {},
   "outputs": [],
   "source": [
    "println(messages[18420])\n",
    "println(decomposed_messages[18420])\n"
   ]
  }
 ],
 "metadata": {
  "kernelspec": {
   "display_name": "Julia 1.2.0",
   "language": "julia",
   "name": "julia-1.2"
  },
  "language_info": {
   "file_extension": ".jl",
   "mimetype": "application/julia",
   "name": "julia",
   "version": "1.2.0"
  }
 },
 "nbformat": 4,
 "nbformat_minor": 4
}
