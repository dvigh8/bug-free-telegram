{
 "cells": [
  {
   "cell_type": "code",
   "execution_count": null,
   "metadata": {},
   "outputs": [],
   "source": [
    "# julia 1.2.0\n",
    "using Pkg\n",
    "using Unicode"
   ]
  },
  {
   "cell_type": "code",
   "execution_count": null,
   "metadata": {},
   "outputs": [],
   "source": [
    "message_regex = r\"(^[\\[]?[\\d]+\\/[\\d]{1,2}\\/[\\d]{1,2}[,]\\s[\\d]{1,2}[:][\\d]{1,2}([:][\\d]{1,2}[\\]]|[\\s]\\-[\\s])).*[\\:].*\"\n",
    "admin_opperation_regex = r\"(^[\\[]?[\\d]+\\/[\\d]{1,2}\\/[\\d]{1,2}[,]\\s[\\d]{1,2}[:][\\d]{1,2}[:]?[\\d]?[\\d]?).*\""
   ]
  },
  {
   "cell_type": "markdown",
   "metadata": {},
   "source": [
    "### loads file prints first line "
   ]
  },
  {
   "cell_type": "code",
   "execution_count": null,
   "metadata": {},
   "outputs": [],
   "source": [
    "fname = joinpath(homedir(),\"Documents\",\"whatsapp_chat.txt\")\n",
    "f = open(fname,\"r\")\n",
    "l = readlines(f)"
   ]
  },
  {
   "cell_type": "markdown",
   "metadata": {},
   "source": [
    "### sepperates all messages from admin opperations finds multi line messages"
   ]
  },
  {
   "cell_type": "code",
   "execution_count": null,
   "metadata": {},
   "outputs": [],
   "source": [
    "messages = []\n",
    "count = 1\n",
    "message_count = 1\n",
    "err_count = 0\n",
    "err_dict = Dict()\n",
    "chat_admin_opperations = Dict()\n",
    "for x in l\n",
    "    x = Unicode.normalize(x, stripignore=true)\n",
    "    if occursin(message_regex,x)\n",
    "        push!(messages,x)\n",
    "        message_count += 1\n",
    "        \n",
    "    else \n",
    "        if occursin(admin_opperation_regex,x)\n",
    "            chat_admin_opperations[err_count] = x\n",
    "            \n",
    "        elseif haskey(err_dict, message_count - 1)\n",
    "            err_dict[message_count - 1] *= \" \" * x\n",
    "            \n",
    "        else\n",
    "            err_dict[message_count - 1] = x\n",
    "            \n",
    "        end\n",
    "        err_count +=1\n",
    "    end\n",
    "    count += 1\n",
    "end\n",
    "for (k,v) in err_dict\n",
    "    messages[k] *= \" \" * v\n",
    "end\n",
    "\n",
    "println(\"number of admin opperations => \", length(chat_admin_opperations))\n",
    "println(message_count, \" message_count\")\n",
    "println(err_count, \" Err count\")\n",
    "println(count, \" Total count\")"
   ]
  },
  {
   "cell_type": "markdown",
   "metadata": {},
   "source": [
    "### add on rest of multi line messages"
   ]
  },
  {
   "cell_type": "code",
   "execution_count": null,
   "metadata": {},
   "outputs": [],
   "source": [
    "decomposed_messages = []\n",
    "for s in messages\n",
    "    date_end = first(findfirst(\",\",s)) - 1\n",
    "    if s[1:1] == \"[\"\n",
    "        \n",
    "        date = s[2:date_end]\n",
    "        time = s[date_end + 3:date_end + 10]\n",
    "        rest_message = s[date_end + 13:end]\n",
    "        message_type = \"apple\"\n",
    "        \n",
    "    else\n",
    "        date = s[1:date_end]\n",
    "        time = s[date_end + 3:date_end + 7]\n",
    "        rest_message = s[date_end + 11:end]\n",
    "        message_type = \"android\"\n",
    "\n",
    "    end\n",
    "\n",
    "    sender = rest_message[1:first(findfirst(\":\",rest_message)) - 1]\n",
    "    message = rest_message[first(findfirst(\":\",rest_message)) + 2:end]\n",
    "    push!(decomposed_messages,[date, time, sender, message, message_type])\n",
    "    \n",
    "end "
   ]
  },
  {
   "cell_type": "code",
   "execution_count": null,
   "metadata": {},
   "outputs": [],
   "source": [
    "println(decomposed_messages[500])\n",
    "println(decomposed_messages[10500])"
   ]
  },
  {
   "cell_type": "code",
   "execution_count": null,
   "metadata": {},
   "outputs": [],
   "source": [
    "senders = Dict()\n",
    "for x in decomposed_messages\n",
    "    global senders\n",
    "    senders[x[3]] = x[3]\n",
    "end\n",
    "senders"
   ]
  }
 ],
 "metadata": {
  "kernelspec": {
   "display_name": "Julia 1.2.0",
   "language": "julia",
   "name": "julia-1.2"
  },
  "language_info": {
   "file_extension": ".jl",
   "mimetype": "application/julia",
   "name": "julia",
   "version": "1.2.0"
  }
 },
 "nbformat": 4,
 "nbformat_minor": 4
}
