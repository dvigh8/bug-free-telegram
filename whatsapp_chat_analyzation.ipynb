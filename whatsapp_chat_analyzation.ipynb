{
 "cells": [
  {
   "cell_type": "code",
   "execution_count": null,
   "metadata": {},
   "outputs": [],
   "source": [
    "# julia 1.2.0\n",
    "using Pkg\n",
    "using Unicode"
   ]
  },
  {
   "cell_type": "code",
   "execution_count": null,
   "metadata": {},
   "outputs": [],
   "source": [
    "message_regex = r\"(^[\\[]?[\\d]+\\/[\\d]{1,2}\\/[\\d]{1,2}[,]\\s[\\d]{1,2}[:][\\d]{1,2}([:][\\d]{1,2}[\\]]|[\\s]\\-[\\s])).*[\\:].*\"\n",
    "admin_opperation_regex = r\"(^[\\[]?[\\d]+\\/[\\d]{1,2}\\/[\\d]{1,2}[,]\\s[\\d]{1,2}[:][\\d]{1,2}[:]?[\\d]?[\\d]?).*\""
   ]
  },
  {
   "cell_type": "markdown",
   "metadata": {},
   "source": [
    "### loads file prints first line "
   ]
  },
  {
   "cell_type": "code",
   "execution_count": null,
   "metadata": {},
   "outputs": [],
   "source": [
    "fname = joinpath(homedir(),\"Documents\",\"whatsapp_chat.txt\")\n",
    "f = open(fname,\"r\")\n",
    "l = readlines(f)"
   ]
  },
  {
   "cell_type": "markdown",
   "metadata": {},
   "source": [
    "### sepperates all messages from admin opperations finds multi line messages"
   ]
  },
  {
   "cell_type": "code",
   "execution_count": null,
   "metadata": {},
   "outputs": [],
   "source": [
    "messages = []\n",
    "count = 1\n",
    "message_count = 1\n",
    "err_count = 0\n",
    "err_dict = Dict()\n",
    "chat_admin_opperations = Dict()\n",
    "for x in l\n",
    "    x = Unicode.normalize(x, stripignore=true)\n",
    "    if occursin(message_regex,x)\n",
    "        push!(messages,x)\n",
    "        message_count += 1\n",
    "        \n",
    "    else \n",
    "        if occursin(admin_opperation_regex,x)\n",
    "            chat_admin_opperations[err_count] = x\n",
    "            \n",
    "        elseif haskey(err_dict, message_count - 1)\n",
    "            err_dict[message_count - 1] *= \" \" * x\n",
    "            \n",
    "        else\n",
    "            err_dict[message_count - 1] = x\n",
    "            \n",
    "        end\n",
    "        err_count +=1\n",
    "    end\n",
    "    count += 1\n",
    "end\n",
    "for (k,v) in err_dict\n",
    "    messages[k] *= \" \" * v\n",
    "end\n",
    "\n",
    "println(\"number of admin opperations => \", length(chat_admin_opperations))\n",
    "println(message_count, \" message_count\")\n",
    "println(err_count, \" Err count\")\n",
    "println(count, \" Total count\")"
   ]
  },
  {
   "cell_type": "markdown",
   "metadata": {},
   "source": [
    "### add on rest of multi line messages"
   ]
  },
  {
   "cell_type": "code",
   "execution_count": null,
   "metadata": {},
   "outputs": [],
   "source": [
    "decomposed_messages = []\n",
    "i=1\n",
    "for s in messages\n",
    "\n",
    "    i += 1\n",
    "    if s[1:1] == \"[\"\n",
    "        date = s[2:8]\n",
    "        time = s[11:18]\n",
    "        rest_message = s[21:end]\n",
    "        \n",
    "    else\n",
    "        date = s[1:7]\n",
    "        time = s[10:14]\n",
    "        rest_message = s[18:end]\n",
    "\n",
    "    end\n",
    "\n",
    "    sender = rest_message[1:first(findfirst(\":\",rest_message)) - 1]\n",
    "    message = rest_message[first(findfirst(\":\",rest_message)) + 2:end]\n",
    "    push!(decomposed_messages,[date, time, sender, message])\n",
    "    \n",
    "end "
   ]
  },
  {
   "cell_type": "code",
   "execution_count": null,
   "metadata": {},
   "outputs": [],
   "source": [
    "decomposed_messages"
   ]
  }
 ],
 "metadata": {
  "kernelspec": {
   "display_name": "Julia 1.2.0",
   "language": "julia",
   "name": "julia-1.2"
  },
  "language_info": {
   "file_extension": ".jl",
   "mimetype": "application/julia",
   "name": "julia",
   "version": "1.2.0"
  }
 },
 "nbformat": 4,
 "nbformat_minor": 4
}
